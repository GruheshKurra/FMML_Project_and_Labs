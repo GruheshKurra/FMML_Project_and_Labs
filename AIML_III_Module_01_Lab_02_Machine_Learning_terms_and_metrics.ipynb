{
  "cells": [
    {
      "cell_type": "markdown",
      "metadata": {
        "id": "view-in-github",
        "colab_type": "text"
      },
      "source": [
        "<a href=\"https://colab.research.google.com/github/GruheshKurra/FMML_Project_and_Labs/blob/main/AIML_III_Module_01_Lab_02_Machine_Learning_terms_and_metrics.ipynb\" target=\"_parent\"><img src=\"https://colab.research.google.com/assets/colab-badge.svg\" alt=\"Open In Colab\"/></a>"
      ]
    },
    {
      "cell_type": "markdown",
      "metadata": {
        "id": "3Eu9VZbF01eq"
      },
      "source": [
        "# Machine Learning terms and metrics\n",
        "\n",
        "Module 1, Lab 2\n",
        "\n",
        "In this lab, we will show a part of the ML pipeline by using the California Housing dataset. There are 20640 samples, each with 8 attributes like income of the block, age of the houses per district etc. The task is to predict the cost of the houses per district. We will use the scikit-learn library to load the data and perform some basic data preprocessing and model training. We will also show how to evaluate the model using some common metrics, split the data into training and testing sets, and use cross-validation to get a better estimate of the model's performance."
      ]
    },
    {
      "cell_type": "code",
      "execution_count": null,
      "metadata": {
        "id": "8qBvyEem0vLi"
      },
      "outputs": [],
      "source": [
        "import numpy as np\n",
        "from sklearn import datasets\n",
        "import matplotlib.pyplot as plt\n",
        "\n",
        "rng = np.random.default_rng(seed=42)"
      ]
    },
    {
      "cell_type": "code",
      "execution_count": null,
      "metadata": {
        "colab": {
          "base_uri": "https://localhost:8080/"
        },
        "id": "8LpqjN991GGJ",
        "outputId": "f540e32a-716b-4ebf-dcbc-dd3b708b7962"
      },
      "outputs": [
        {
          "output_type": "stream",
          "name": "stdout",
          "text": [
            ".. _california_housing_dataset:\n",
            "\n",
            "California Housing dataset\n",
            "--------------------------\n",
            "\n",
            "**Data Set Characteristics:**\n",
            "\n",
            "    :Number of Instances: 20640\n",
            "\n",
            "    :Number of Attributes: 8 numeric, predictive attributes and the target\n",
            "\n",
            "    :Attribute Information:\n",
            "        - MedInc        median income in block group\n",
            "        - HouseAge      median house age in block group\n",
            "        - AveRooms      average number of rooms per household\n",
            "        - AveBedrms     average number of bedrooms per household\n",
            "        - Population    block group population\n",
            "        - AveOccup      average number of household members\n",
            "        - Latitude      block group latitude\n",
            "        - Longitude     block group longitude\n",
            "\n",
            "    :Missing Attribute Values: None\n",
            "\n",
            "This dataset was obtained from the StatLib repository.\n",
            "https://www.dcc.fc.up.pt/~ltorgo/Regression/cal_housing.html\n",
            "\n",
            "The target variable is the median house value for California districts,\n",
            "expressed in hundreds of thousands of dollars ($100,000).\n",
            "\n",
            "This dataset was derived from the 1990 U.S. census, using one row per census\n",
            "block group. A block group is the smallest geographical unit for which the U.S.\n",
            "Census Bureau publishes sample data (a block group typically has a population\n",
            "of 600 to 3,000 people).\n",
            "\n",
            "A household is a group of people residing within a home. Since the average\n",
            "number of rooms and bedrooms in this dataset are provided per household, these\n",
            "columns may take surprisingly large values for block groups with few households\n",
            "and many empty houses, such as vacation resorts.\n",
            "\n",
            "It can be downloaded/loaded using the\n",
            ":func:`sklearn.datasets.fetch_california_housing` function.\n",
            "\n",
            ".. topic:: References\n",
            "\n",
            "    - Pace, R. Kelley and Ronald Barry, Sparse Spatial Autoregressions,\n",
            "      Statistics and Probability Letters, 33 (1997) 291-297\n",
            "\n"
          ]
        }
      ],
      "source": [
        "dataset = datasets.fetch_california_housing()\n",
        "# Dataset description\n",
        "print(dataset.DESCR)"
      ]
    },
    {
      "cell_type": "markdown",
      "metadata": {
        "id": "PCe1VNftevgE"
      },
      "source": [
        "Given below are the list of target values. These correspond to the house value derived considering all the 8 input features and are continuous values. We should use regression models to predict these values but we will start with a simple classification model for the sake of simplicity. We need to just round off the values to the nearest integer and use a classification model to predict the house value."
      ]
    },
    {
      "cell_type": "code",
      "execution_count": null,
      "metadata": {
        "colab": {
          "base_uri": "https://localhost:8080/"
        },
        "id": "F8K0ggBOevgE",
        "outputId": "e82f9a2b-cbd5-487c-cb4f-834cb3c93fa9"
      },
      "outputs": [
        {
          "output_type": "stream",
          "name": "stdout",
          "text": [
            "Orignal target values: [4.526 3.585 3.521 ... 0.923 0.847 0.894]\n",
            "Target values after conversion: [4 3 3 ... 0 0 0]\n",
            "Input variables shape: (20640, 8)\n",
            "Output variables shape: (20640,)\n"
          ]
        }
      ],
      "source": [
        "print(\"Orignal target values:\", dataset.target)\n",
        "\n",
        "dataset.target = dataset.target.astype(int)\n",
        "\n",
        "print(\"Target values after conversion:\", dataset.target)\n",
        "print(\"Input variables shape:\", dataset.data.shape)\n",
        "print(\"Output variables shape:\", dataset.target.shape)"
      ]
    },
    {
      "cell_type": "markdown",
      "metadata": {
        "id": "iNx4174W5xRg"
      },
      "source": [
        "The simplest model to use for classification is the K-Nearest Neighbors model. We will use this model to predict the house value with a K value of 1. We will also use the accuracy metric to evaluate the model."
      ]
    },
    {
      "cell_type": "code",
      "execution_count": null,
      "metadata": {
        "id": "07zpydQj1hIQ"
      },
      "outputs": [],
      "source": [
        "def NN1(traindata, trainlabel, query):\n",
        "    \"\"\"\n",
        "    This function takes in the training data, training labels and a query point\n",
        "    and returns the predicted label for the query point using the nearest neighbour algorithm\n",
        "\n",
        "    traindata: numpy array of shape (n,d) where n is the number of samples and d is the number of features\n",
        "    trainlabel: numpy array of shape (n,) where n is the number of samples\n",
        "    query: numpy array of shape (d,) where d is the number of features\n",
        "\n",
        "    returns: the predicted label for the query point which is the label of the training data which is closest to the query point\n",
        "    \"\"\"\n",
        "    diff = (\n",
        "        traindata - query\n",
        "    )  # find the difference between features. Numpy automatically takes care of the size here\n",
        "    sq = diff * diff  # square the differences\n",
        "    dist = sq.sum(1)  # add up the squares\n",
        "    label = trainlabel[np.argmin(dist)]\n",
        "    return label\n",
        "\n",
        "\n",
        "def NN(traindata, trainlabel, testdata):\n",
        "    \"\"\"\n",
        "    This function takes in the training data, training labels and test data\n",
        "    and returns the predicted labels for the test data using the nearest neighbour algorithm\n",
        "\n",
        "    traindata: numpy array of shape (n,d) where n is the number of samples and d is the number of features\n",
        "    trainlabel: numpy array of shape (n,) where n is the number of samples\n",
        "    testdata: numpy array of shape (m,d) where m is the number of test samples and d is the number of features\n",
        "\n",
        "    returns: the predicted labels for the test data which is the label of the training data which is closest to each test point\n",
        "    \"\"\"\n",
        "    predlabel = np.array([NN1(traindata, trainlabel, i) for i in testdata])\n",
        "    return predlabel"
      ]
    },
    {
      "cell_type": "markdown",
      "metadata": {
        "id": "03JktkfIGaje"
      },
      "source": [
        "We will also define a 'random classifier', which randomly allots labels to each sample"
      ]
    },
    {
      "cell_type": "code",
      "execution_count": null,
      "metadata": {
        "id": "fogWAtjyGhAH"
      },
      "outputs": [],
      "source": [
        "def RandomClassifier(traindata, trainlabel, testdata):\n",
        "    \"\"\"\n",
        "    This function takes in the training data, training labels and test data\n",
        "    and returns the predicted labels for the test data using the random classifier algorithm\n",
        "\n",
        "    In reality, we don't need these arguments but we are passing them to keep the function signature consistent with other classifiers\n",
        "\n",
        "    traindata: numpy array of shape (n,d) where n is the number of samples and d is the number of features\n",
        "    trainlabel: numpy array of shape (n,) where n is the number of samples\n",
        "    testdata: numpy array of shape (m,d) where m is the number of test samples and d is the number of features\n",
        "\n",
        "    returns: the predicted labels for the test data which is a random label from the training data\n",
        "    \"\"\"\n",
        "\n",
        "    classes = np.unique(trainlabel)\n",
        "    rints = rng.integers(low=0, high=len(classes), size=len(testdata))\n",
        "    predlabel = classes[rints]\n",
        "    return predlabel"
      ]
    },
    {
      "cell_type": "markdown",
      "metadata": {
        "id": "1Hjf1KHs7fU5"
      },
      "source": [
        "We need a metric to evaluate the performance of the model. Let us define a metric 'Accuracy' to see how good our learning algorithm is. Accuracy is the ratio of the number of correctly classified samples to the total number of samples. The higher the accuracy, the better the algorithm. We will use the accuracy metric to evaluate and compate the performance of the K-Nearest Neighbors model and the random classifier."
      ]
    },
    {
      "cell_type": "code",
      "execution_count": null,
      "metadata": {
        "id": "ouuCqWU07bz-"
      },
      "outputs": [],
      "source": [
        "def Accuracy(gtlabel, predlabel):\n",
        "    \"\"\"\n",
        "    This function takes in the ground-truth labels and predicted labels\n",
        "    and returns the accuracy of the classifier\n",
        "\n",
        "    gtlabel: numpy array of shape (n,) where n is the number of samples\n",
        "    predlabel: numpy array of shape (n,) where n is the number of samples\n",
        "\n",
        "    returns: the accuracy of the classifier which is the number of correct predictions divided by the total number of predictions\n",
        "    \"\"\"\n",
        "    assert len(gtlabel) == len(\n",
        "        predlabel\n",
        "    ), \"Length of the ground-truth labels and predicted labels should be the same\"\n",
        "    correct = (\n",
        "        gtlabel == predlabel\n",
        "    ).sum()  # count the number of times the groundtruth label is equal to the predicted label.\n",
        "    return correct / len(gtlabel)"
      ]
    },
    {
      "cell_type": "markdown",
      "metadata": {
        "id": "4vJFwBFa9Klw"
      },
      "source": [
        "Let us make a function to split the dataset with the desired probability. We will use this function to split the dataset into training and testing sets. We will use the training set to train the model and the testing set to evaluate the model."
      ]
    },
    {
      "cell_type": "code",
      "execution_count": null,
      "metadata": {
        "id": "Ko0VzpSM2Tdi"
      },
      "outputs": [],
      "source": [
        "def split(data, label, percent):\n",
        "    # generate a random number for each sample\n",
        "    rnd = rng.random(len(label))\n",
        "    split1 = rnd < percent\n",
        "    split2 = rnd >= percent\n",
        "\n",
        "    split1data = data[split1, :]\n",
        "    split1label = label[split1]\n",
        "    split2data = data[split2, :]\n",
        "    split2label = label[split2]\n",
        "    return split1data, split1label, split2data, split2label"
      ]
    },
    {
      "cell_type": "markdown",
      "metadata": {
        "id": "AcK3LEAJ_LGC"
      },
      "source": [
        "We will reserve 20% of our dataset as the test set. We will not change this portion throughout our experiments"
      ]
    },
    {
      "cell_type": "code",
      "execution_count": null,
      "metadata": {
        "colab": {
          "base_uri": "https://localhost:8080/"
        },
        "id": "bBZkHBLJ1iU-",
        "outputId": "8aee82df-3718-4eb5-cc62-c3ac2b4ced0e"
      },
      "outputs": [
        {
          "output_type": "stream",
          "name": "stdout",
          "text": [
            "Number of test samples: 4144\n",
            "Number of train samples: 16496\n",
            "Percent of test data: 20.07751937984496 %\n"
          ]
        }
      ],
      "source": [
        "testdata, testlabel, alltraindata, alltrainlabel = split(\n",
        "    dataset.data, dataset.target, 20 / 100\n",
        ")\n",
        "print(\"Number of test samples:\", len(testlabel))\n",
        "print(\"Number of train samples:\", len(alltrainlabel))\n",
        "print(\"Percent of test data:\", len(testlabel) * 100 / len(dataset.target), \"%\")"
      ]
    },
    {
      "cell_type": "markdown",
      "metadata": {
        "id": "a6Ss0Z6IAGNV"
      },
      "source": [
        "## Experiments with splits\n",
        "\n",
        "Let us reserve some of our train data as a validation set"
      ]
    },
    {
      "cell_type": "code",
      "execution_count": null,
      "metadata": {
        "id": "WFew2iry_7W7"
      },
      "outputs": [],
      "source": [
        "traindata, trainlabel, valdata, vallabel = split(\n",
        "    alltraindata, alltrainlabel, 75 / 100)"
      ]
    },
    {
      "cell_type": "markdown",
      "metadata": {
        "id": "60hiu4clFN1i"
      },
      "source": [
        "What is the accuracy of our classifiers on the train dataset?"
      ]
    },
    {
      "cell_type": "code",
      "execution_count": null,
      "metadata": {
        "colab": {
          "base_uri": "https://localhost:8080/"
        },
        "id": "DBlZDTHUFTZx",
        "outputId": "3f7f929f-ca78-443e-c0f2-ab5716b96a14"
      },
      "outputs": [
        {
          "output_type": "stream",
          "name": "stdout",
          "text": [
            "Training accuracy using nearest neighbour algorithm: 100.0 %\n",
            "Training accuracy using random classifier:  16.4375808538163 %\n"
          ]
        }
      ],
      "source": [
        "trainpred = NN(traindata, trainlabel, traindata)\n",
        "trainAccuracy = Accuracy(trainlabel, trainpred)\n",
        "print(\"Training accuracy using nearest neighbour algorithm:\", trainAccuracy*100, \"%\")\n",
        "\n",
        "trainpred = RandomClassifier(traindata, trainlabel, traindata)\n",
        "trainAccuracy = Accuracy(trainlabel, trainpred)\n",
        "print(\"Training accuracy using random classifier: \", trainAccuracy*100, \"%\")"
      ]
    },
    {
      "cell_type": "markdown",
      "metadata": {
        "id": "7h08-9gJDtSy"
      },
      "source": [
        "For nearest neighbour, the train accuracy is always 1. The accuracy of the random classifier is close to 1/(number of classes) which is 0.1666 in our case. This is because the random classifier randomly assigns a label to each sample and the probability of assigning the correct label is 1/(number of classes). Let us predict the labels for our validation set and get the accuracy. This accuracy is a good estimate of the accuracy of our model on unseen data."
      ]
    },
    {
      "cell_type": "code",
      "execution_count": null,
      "metadata": {
        "colab": {
          "base_uri": "https://localhost:8080/"
        },
        "id": "4h7bXoW_2H3v",
        "outputId": "e1f3c80c-d75e-46ca-e753-b43cc6589dc6"
      },
      "outputs": [
        {
          "output_type": "stream",
          "name": "stdout",
          "text": [
            "Validation accuracy using nearest neighbour algorithm: 34.10852713178294 %\n",
            "Validation accuracy using random classifier: 16.884689922480618 %\n"
          ]
        }
      ],
      "source": [
        "valpred = NN(traindata, trainlabel, valdata)\n",
        "valAccuracy = Accuracy(vallabel, valpred)\n",
        "print(\"Validation accuracy using nearest neighbour algorithm:\", valAccuracy*100, \"%\")\n",
        "\n",
        "\n",
        "valpred = RandomClassifier(traindata, trainlabel, valdata)\n",
        "valAccuracy = Accuracy(vallabel, valpred)\n",
        "print(\"Validation accuracy using random classifier:\", valAccuracy*100, \"%\")"
      ]
    },
    {
      "cell_type": "markdown",
      "metadata": {
        "id": "py9bLguFEjfg"
      },
      "source": [
        "Validation accuracy of nearest neighbour is considerably less than its train accuracy while the validation accuracy of random classifier is the same. However, the validation accuracy of nearest neighbour is twice that of the random classifier. Now let us try another random split and check the validation accuracy. We will see that the validation accuracy changes with the split. This is because the validation set is small and the accuracy is highly dependent on the samples in the validation set. We can get a better estimate of the accuracy by using cross-validation."
      ]
    },
    {
      "cell_type": "code",
      "execution_count": null,
      "metadata": {
        "colab": {
          "base_uri": "https://localhost:8080/"
        },
        "id": "ujm3cyYzEntE",
        "outputId": "c1f8a28b-7bf0-45bf-eb1a-9eb219d9e9d7"
      },
      "outputs": [
        {
          "output_type": "stream",
          "name": "stdout",
          "text": [
            "Validation accuracy using nearest neighbour algorithm: 34.048257372654156 %\n"
          ]
        }
      ],
      "source": [
        "traindata, trainlabel, valdata, vallabel = split(\n",
        "    alltraindata, alltrainlabel, 75 / 100)\n",
        "valpred = NN(traindata, trainlabel, valdata)\n",
        "valAccuracy = Accuracy(vallabel, valpred)\n",
        "print(\"Validation accuracy using nearest neighbour algorithm:\", valAccuracy*100, \"%\")"
      ]
    },
    {
      "cell_type": "markdown",
      "metadata": {
        "id": "oSOx7U83EKie"
      },
      "source": [
        "You can run the above cell multiple times to try with different random splits.\n",
        "We notice that the accuracy is different for each run, but close together.\n",
        "\n",
        "Now let us compare it with the accuracy we get on the test dataset."
      ]
    },
    {
      "cell_type": "code",
      "execution_count": null,
      "metadata": {
        "colab": {
          "base_uri": "https://localhost:8080/"
        },
        "id": "PNEZ5ToYBEDW",
        "outputId": "4da13b24-d03f-48eb-aa0b-b62ace7135ea"
      },
      "outputs": [
        {
          "output_type": "stream",
          "name": "stdout",
          "text": [
            "Test accuracy: 34.91795366795367 %\n"
          ]
        }
      ],
      "source": [
        "testpred = NN(alltraindata, alltrainlabel, testdata)\n",
        "testAccuracy = Accuracy(testlabel, testpred)\n",
        "\n",
        "print(\"Test accuracy:\", testAccuracy*100, \"%\")"
      ]
    },
    {
      "cell_type": "markdown",
      "metadata": {
        "id": "w3dGD531K3gH"
      },
      "source": [
        "## Try it out for yourself and answer:\n",
        "### 1. How is the accuracy of the validation set affected if we increase the percentage of validation set? What happens when we reduce it?\n",
        "\n",
        "**Answer** : When we increase the percentage of the validation set, we have more data to check how well our model is performing, but less data to train the model. For example, if we go from 20% to 50% validation data, our training data drops from 80% to 50%. This can make the model less accurate because it has less data to learn from. The model might not capture all the patterns in the data, leading to lower accuracy on the validation set.\n",
        "\n",
        "On the other hand, if we reduce the validation set percentage, we have more training data. For example, going from 20% to 10% validation data means our training data increases from 80% to 90%. This can make the model learn better and perform better on the validation set because it has more data to understand the patterns. However, too small a validation set might not give us a reliable measure of accuracy since it represents a smaller portion of the data.\n",
        "\n",
        "---\n",
        "\n",
        "### 2. How does the size of the train and validation set affect how well we can predict the accuracy on the test set using the validation set?\n",
        "\n",
        "**Answer** : The size of the training and validation sets affects our ability to predict test set accuracy.\n",
        "\n",
        "*   **Small Training Set**: If the training set is too small, like 50% or less, the model doesn’t learn enough patterns. For instance, if we have only 10% of the data for training, the model might perform poorly because it hasn’t seen enough examples.\n",
        "*   **Small Validation Set**: If the validation set is too small, say 5% or less, the accuracy we get from it might not be reliable. For example, using just 5% of the data for validation might show higher or lower accuracy by chance, not because the model is good or bad.\n",
        "\n",
        "---\n",
        "\n",
        "### 3. What do you think is a good percentage to reserve for the validation set so that thest two factors are balanced?\n",
        "\n",
        "**Answer** : A good percentage to reserve for the validation set is around 20% to 30%. This means if we have 1000 data points, we use 200-300 for validation and 700-800 for training.\n",
        "\n",
        "*   **Enough Training Data**: With 70%-80% data for training, the model can learn well and understand the patterns in the data. For example, training with 700 data points instead of 500 makes the model better.\n",
        "\n",
        "*   **Reliable Validation**: Using 20%-30% data for validation, like 200-300 points out of 1000, gives us a good measure of how the model will perform on new, unseen data.\n",
        "\n",
        "---\n",
        "\n",
        "Answer for both nearest neighbour and random classifier. You can note down the values for your experiments and plot a graph using  <a href=https://matplotlib.org/stable/gallery/lines_bars_and_markers/step_demo.html#sphx-glr-gallery-lines-bars-and-markers-step-demo-py>plt.plot<href>. Check also for extreme values for splits, like 99.9% or 0.1%"
      ]
    },
    {
      "cell_type": "markdown",
      "metadata": {
        "id": "M9zvdYY6evgI"
      },
      "source": [
        "> Exercise: Try to implement a 3 nearest neighbour classifier and compare the accuracy of the 1 nearest neighbour classifier and the 3 nearest neighbour classifier on the test dataset. You can use the KNeighborsClassifier class from the scikit-learn library to implement the K-Nearest Neighbors model. You can set the number of neighbors using the n_neighbors parameter. You can also use the accuracy_score function from the scikit-learn library to calculate the accuracy of the model."
      ]
    },
    {
      "cell_type": "code",
      "source": [
        "from sklearn.neighbors import KNeighborsClassifier\n",
        "from sklearn.metrics import accuracy_score\n",
        "\n",
        "# Training and validating the 1-nearest neighbor classifier\n",
        "knn_1 = KNeighborsClassifier(n_neighbors=1)\n",
        "knn_1.fit(traindata, trainlabel)\n",
        "val_pred_1 = knn_1.predict(valdata)\n",
        "val_accuracy_1 = accuracy_score(vallabel, val_pred_1)\n",
        "print(f'Validation accuracy using 1-nearest neighbor classifier: {val_accuracy_1*100:.2f}%')\n",
        "\n",
        "# Training and validating the 3-nearest neighbor classifier\n",
        "knn_3 = KNeighborsClassifier(n_neighbors=3)\n",
        "knn_3.fit(traindata, trainlabel)\n",
        "val_pred_3 = knn_3.predict(valdata)\n",
        "val_accuracy_3 = accuracy_score(vallabel, val_pred_3)\n",
        "print(f'Validation accuracy using 3-nearest neighbor classifier: {val_accuracy_3*100:.2f}%')\n",
        "\n",
        "# Testing the 1-nearest neighbor classifier on the test set\n",
        "test_pred_1 = knn_1.predict(testdata)\n",
        "test_accuracy_1 = accuracy_score(testlabel, test_pred_1)\n",
        "print(f'Test accuracy using 1-nearest neighbor classifier: {test_accuracy_1*100:.2f}%')\n",
        "\n",
        "# Testing the 3-nearest neighbor classifier on the test set\n",
        "test_pred_3 = knn_3.predict(testdata)\n",
        "test_accuracy_3 = accuracy_score(testlabel, test_pred_3)\n",
        "print(f'Test accuracy using 3-nearest neighbor classifier: {test_accuracy_3*100:.2f}%')\n"
      ],
      "metadata": {
        "colab": {
          "base_uri": "https://localhost:8080/"
        },
        "id": "SAol8t7CYUsk",
        "outputId": "5e068a63-0ddd-46a2-9bee-001f88cd67db"
      },
      "execution_count": null,
      "outputs": [
        {
          "output_type": "stream",
          "name": "stdout",
          "text": [
            "Validation accuracy using 1-nearest neighbor classifier: 34.05%\n",
            "Validation accuracy using 3-nearest neighbor classifier: 34.07%\n",
            "Test accuracy using 1-nearest neighbor classifier: 34.05%\n",
            "Test accuracy using 3-nearest neighbor classifier: 34.60%\n"
          ]
        }
      ]
    },
    {
      "cell_type": "markdown",
      "source": [
        "**Results**:\n",
        "Validation accuracy for the 1-nearest neighbor (1NN) classifier was 34.05%, while the 3-nearest neighbor (3NN) classifier achieved a slightly higher validation accuracy of 34.07%. On the test dataset, the 1NN classifier had an accuracy of 34.05%, whereas the 3NN classifier improved to 34.60%.\n",
        "\n",
        "**Conclusion**:\n",
        "The 3-nearest neighbor (3NN) classifier performed slightly better than the 1-nearest neighbor (1NN) classifier. The validation accuracy was very close for both models, with 1NN at 34.05% and 3NN at 34.07%. On the test set, 1NN achieved 34.05%, while 3NN improved to 34.60%.\n",
        "\n",
        "These results suggest that the 3NN classifier generalizes better to new data, likely due to its consideration of multiple neighbors, which reduces the impact of noise and outliers. Therefore, using the 3NN classifier is advantageous, especially in noisy datasets. Further experimentation with different\n",
        "k values and cross-validation can help confirm these findings.\n",
        "\n",
        "In conclusion, the 3NN classifier is slightly better for this dataset, showing improved test accuracy and robustness."
      ],
      "metadata": {
        "id": "CUaxewuLbER9"
      }
    },
    {
      "cell_type": "markdown",
      "metadata": {
        "id": "PnYvkAZLQY7h"
      },
      "source": [
        "## Multiple Splits\n",
        "\n",
        "One way to get more accurate estimates for the test accuracy is by using <b>cross-validation</b>. Here, we will try a simple version, where we do multiple train/val splits and take the average of validation accuracies as the test accuracy estimation. Here is a function for doing this. Note that this function will take a long time to execute. You can reduce the number of splits to make it faster."
      ]
    },
    {
      "cell_type": "code",
      "execution_count": null,
      "metadata": {
        "id": "E4nGCUQXBTzo"
      },
      "outputs": [],
      "source": [
        "def AverageAccuracy(alldata, alllabel, splitpercent, iterations, classifier=NN):\n",
        "    \"\"\"\n",
        "    This function takes in the data, labels, split percentage, number of iterations and classifier function\n",
        "    and returns the average accuracy of the classifier\n",
        "\n",
        "    alldata: numpy array of shape (n,d) where n is the number of samples and d is the number of features\n",
        "    alllabel: numpy array of shape (n,) where n is the number of samples\n",
        "    splitpercent: float which is the percentage of data to be used for training\n",
        "    iterations: int which is the number of iterations to run the classifier\n",
        "    classifier: function which is the classifier function to be used\n",
        "\n",
        "    returns: the average accuracy of the classifier\n",
        "    \"\"\"\n",
        "    accuracy = 0\n",
        "    for ii in range(iterations):\n",
        "        traindata, trainlabel, valdata, vallabel = split(\n",
        "            alldata, alllabel, splitpercent\n",
        "        )\n",
        "        valpred = classifier(traindata, trainlabel, valdata)\n",
        "        accuracy += Accuracy(vallabel, valpred)\n",
        "    return accuracy / iterations  # average of all accuracies"
      ]
    },
    {
      "cell_type": "code",
      "execution_count": null,
      "metadata": {
        "colab": {
          "base_uri": "https://localhost:8080/"
        },
        "id": "H3qtNar7Bbik",
        "outputId": "79068693-ffa6-4415-992b-12ae181a605b"
      },
      "outputs": [
        {
          "output_type": "stream",
          "name": "stdout",
          "text": [
            "Average validation accuracy: 33.58463539517022 %\n",
            "Test accuracy: 34.91795366795367 %\n"
          ]
        }
      ],
      "source": [
        "avg_acc = AverageAccuracy(alltraindata, alltrainlabel, 75 / 100, 10, classifier=NN)\n",
        "print(\"Average validation accuracy:\", avg_acc*100, \"%\")\n",
        "testpred = NN(alltraindata, alltrainlabel, testdata)\n",
        "\n",
        "print(\"Test accuracy:\", Accuracy(testlabel, testpred)*100, \"%\")"
      ]
    },
    {
      "cell_type": "markdown",
      "metadata": {
        "id": "33GIn4x5VH-d"
      },
      "source": [
        "This is a very simple way of doing cross-validation. There are many well-known algorithms for cross-validation, like k-fold cross-validation, leave-one-out etc. This will be covered in detail in a later module. For more information about cross-validation, check <a href=https://en.wikipedia.org/wiki/Cross-validation_(statistics)>Cross-validatioin (Wikipedia)</a>\n",
        "\n",
        "## Questions\n",
        "### 1. Does averaging the validation accuracy across multiple splits give more consistent results?\n",
        "\n",
        "**Answer**:\n",
        "Yes, averaging the validation accuracy across multiple splits generally gives more consistent results. This approach reduces the impact of any single split that might have had particularly good or bad performance due to random chance. By averaging over multiple splits, the variance in the accuracy estimates is reduced, leading to a more stable and reliable measure of the model’s performance.\n",
        "\n",
        "### 2. Does it give more accurate estimate of test accuracy?\n",
        "\n",
        "**Answer**:\n",
        "Yes, averaging validation accuracy across multiple splits tends to provide a more accurate estimate of test accuracy. Since it takes into account multiple subsets of data, it better represents the performance of the model on unseen data. This method helps mitigate the bias that could be introduced by any single split and gives a more realistic picture of how the model is likely to perform on the test set.\n",
        "\n",
        "### 3. What is the effect of the number of iterations on the estimate? Do we get a better estimate with higher iterations?\n",
        "\n",
        "**Answer**:\n",
        "Increasing the number of iterations typically improves the accuracy estimate. With more iterations, the model’s performance is averaged over a greater number of splits, which helps smooth out anomalies and provides a more robust measure of the model’s true performance. Essentially, higher iterations lead to a better and more reliable estimate of accuracy, as the effect of any single outlier split diminishes.\n",
        "\n",
        "### 4. Consider the results you got for the previous questions. Can we deal with a very small train dataset or validation dataset by increasing the iterations?\n",
        "\n",
        "**Answer**:\n",
        "Increasing the number of iterations can help when dealing with a very small train or validation dataset, but it has its limits. More iterations can provide a better estimate by leveraging different parts of the data multiple times, which helps in understanding the model’s performance more comprehensively. However, if the dataset is too small, the model might still struggle to learn effectively due to insufficient training data. Thus, while increasing iterations is beneficial, ensuring a minimum threshold of data is also crucial for the model to perform adequately."
      ]
    },
    {
      "cell_type": "markdown",
      "metadata": {
        "id": "z-SBxy1qevgJ"
      },
      "source": [
        "> Exercise: How does the accuracy of the 3 nearest neighbour classifier change with the number of splits? How is it affected by the split size? Compare the results with the 1 nearest neighbour classifier."
      ]
    },
    {
      "cell_type": "code",
      "source": [
        "import numpy as np\n",
        "from sklearn.neighbors import KNeighborsClassifier\n",
        "from sklearn.metrics import accuracy_score\n",
        "\n",
        "# Function to implement k-nearest neighbors classifier\n",
        "def NN_k_neighbors(traindata, trainlabel, testdata, k):\n",
        "    knn = KNeighborsClassifier(n_neighbors=k)\n",
        "    knn.fit(traindata, trainlabel)\n",
        "    return knn.predict(testdata)\n",
        "\n",
        "# Function to calculate average accuracy\n",
        "def AverageAccuracy_k(alldata, alllabel, splitpercent, iterations, k):\n",
        "    accuracy = 0\n",
        "    for ii in range(iterations):\n",
        "        traindata, trainlabel, valdata, vallabel = split(alldata, alllabel, splitpercent)\n",
        "        valpred = NN_k_neighbors(traindata, trainlabel, valdata, k)\n",
        "        accuracy += Accuracy(vallabel, valpred)\n",
        "    return accuracy / iterations  # average of all accuracies\n",
        "\n",
        "# Parameters for the experiment\n",
        "split_sizes = [0.6, 0.7, 0.8]  # Different split sizes (60%, 70%, 80% training data)\n",
        "num_splits = [5, 10, 15]  # Different numbers of splits (iterations)\n",
        "k_values = [1, 3]  # k values for 1NN and 3NN\n",
        "\n",
        "# Experiment\n",
        "results = {}\n",
        "\n",
        "for k in k_values:\n",
        "    for split_size in split_sizes:\n",
        "        for num_split in num_splits:\n",
        "            avg_acc = AverageAccuracy_k(alltraindata, alltrainlabel, split_size, num_split, k)\n",
        "            results[(k, split_size, num_split)] = avg_acc\n",
        "            print(f'k={k}, split_size={split_size}, num_splits={num_split}: Average validation accuracy = {avg_acc*100:.2f}%')\n",
        "\n",
        "# Summarize results\n",
        "print(\"\\nSummary of results:\")\n",
        "for key, value in results.items():\n",
        "    print(f'k={key[0]}, split_size={key[1]}, num_splits={key[2]}: Average validation accuracy = {value*100:.2f}%')"
      ],
      "metadata": {
        "colab": {
          "base_uri": "https://localhost:8080/"
        },
        "id": "sKvHQF_icMxI",
        "outputId": "90977404-610d-4b43-c93f-5135790fd18a"
      },
      "execution_count": null,
      "outputs": [
        {
          "output_type": "stream",
          "name": "stdout",
          "text": [
            "k=1, split_size=0.6, num_splits=5: Average validation accuracy = 33.72%\n",
            "k=1, split_size=0.6, num_splits=10: Average validation accuracy = 33.74%\n",
            "k=1, split_size=0.6, num_splits=15: Average validation accuracy = 33.31%\n",
            "k=1, split_size=0.7, num_splits=5: Average validation accuracy = 33.93%\n",
            "k=1, split_size=0.7, num_splits=10: Average validation accuracy = 33.82%\n",
            "k=1, split_size=0.7, num_splits=15: Average validation accuracy = 34.19%\n",
            "k=1, split_size=0.8, num_splits=5: Average validation accuracy = 34.03%\n",
            "k=1, split_size=0.8, num_splits=10: Average validation accuracy = 34.05%\n",
            "k=1, split_size=0.8, num_splits=15: Average validation accuracy = 34.12%\n",
            "k=3, split_size=0.6, num_splits=5: Average validation accuracy = 33.62%\n",
            "k=3, split_size=0.6, num_splits=10: Average validation accuracy = 33.67%\n",
            "k=3, split_size=0.6, num_splits=15: Average validation accuracy = 33.97%\n",
            "k=3, split_size=0.7, num_splits=5: Average validation accuracy = 34.43%\n",
            "k=3, split_size=0.7, num_splits=10: Average validation accuracy = 34.38%\n",
            "k=3, split_size=0.7, num_splits=15: Average validation accuracy = 34.68%\n",
            "k=3, split_size=0.8, num_splits=5: Average validation accuracy = 34.63%\n",
            "k=3, split_size=0.8, num_splits=10: Average validation accuracy = 34.89%\n",
            "k=3, split_size=0.8, num_splits=15: Average validation accuracy = 34.55%\n",
            "\n",
            "Summary of results:\n",
            "k=1, split_size=0.6, num_splits=5: Average validation accuracy = 33.72%\n",
            "k=1, split_size=0.6, num_splits=10: Average validation accuracy = 33.74%\n",
            "k=1, split_size=0.6, num_splits=15: Average validation accuracy = 33.31%\n",
            "k=1, split_size=0.7, num_splits=5: Average validation accuracy = 33.93%\n",
            "k=1, split_size=0.7, num_splits=10: Average validation accuracy = 33.82%\n",
            "k=1, split_size=0.7, num_splits=15: Average validation accuracy = 34.19%\n",
            "k=1, split_size=0.8, num_splits=5: Average validation accuracy = 34.03%\n",
            "k=1, split_size=0.8, num_splits=10: Average validation accuracy = 34.05%\n",
            "k=1, split_size=0.8, num_splits=15: Average validation accuracy = 34.12%\n",
            "k=3, split_size=0.6, num_splits=5: Average validation accuracy = 33.62%\n",
            "k=3, split_size=0.6, num_splits=10: Average validation accuracy = 33.67%\n",
            "k=3, split_size=0.6, num_splits=15: Average validation accuracy = 33.97%\n",
            "k=3, split_size=0.7, num_splits=5: Average validation accuracy = 34.43%\n",
            "k=3, split_size=0.7, num_splits=10: Average validation accuracy = 34.38%\n",
            "k=3, split_size=0.7, num_splits=15: Average validation accuracy = 34.68%\n",
            "k=3, split_size=0.8, num_splits=5: Average validation accuracy = 34.63%\n",
            "k=3, split_size=0.8, num_splits=10: Average validation accuracy = 34.89%\n",
            "k=3, split_size=0.8, num_splits=15: Average validation accuracy = 34.55%\n"
          ]
        }
      ]
    },
    {
      "cell_type": "markdown",
      "source": [
        "### Conclusion:\n",
        "\n",
        "**Exercise:** Implement a 3-nearest neighbor classifier and compare the accuracy of the 1-nearest neighbor classifier and the 3-nearest neighbor classifier on the test dataset. Investigate how the accuracy changes with the number of splits and how it is affected by the split size.\n",
        "\n",
        "**Results:**\n",
        "\n",
        "- **Validation Accuracy for 1-Nearest Neighbor (1NN):**\n",
        "  - **Split Size 0.6:**\n",
        "    - 5 splits: 33.72%\n",
        "    - 10 splits: 33.74%\n",
        "    - 15 splits: 33.31%\n",
        "  - **Split Size 0.7:**\n",
        "    - 5 splits: 33.93%\n",
        "    - 10 splits: 33.82%\n",
        "    - 15 splits: 34.19%\n",
        "  - **Split Size 0.8:**\n",
        "    - 5 splits: 34.03%\n",
        "    - 10 splits: 34.05%\n",
        "    - 15 splits: 34.12%\n",
        "\n",
        "- **Validation Accuracy for 3-Nearest Neighbor (3NN):**\n",
        "  - **Split Size 0.6:**\n",
        "    - 5 splits: 33.62%\n",
        "    - 10 splits: 33.67%\n",
        "    - 15 splits: 33.97%\n",
        "  - **Split Size 0.7:**\n",
        "    - 5 splits: 34.43%\n",
        "    - 10 splits: 34.38%\n",
        "    - 15 splits: 34.68%\n",
        "  - **Split Size 0.8:**\n",
        "    - 5 splits: 34.63%\n",
        "    - 10 splits: 34.89%\n",
        "    - 15 splits: 34.55%\n",
        "\n",
        "### Explanation:\n",
        "\n",
        "The accuracy of the 3-nearest neighbor (3NN) classifier changes with the number of splits. Specifically, the accuracy of the 3NN classifier increases slightly with the number of splits. For instance, with a split size of 0.6, the accuracy improves from 33.62% with 5 splits to 33.97% with 15 splits. This indicates that more splits generally lead to a more consistent and reliable measure of accuracy, as the effect of random variations in the splits is reduced.\n",
        "\n",
        "Moreover, the accuracy is also affected by the split size. Increasing the split size (i.e., using more data for training) generally improves the accuracy for both 1NN and 3NN classifiers. For example, for 3NN with 10 splits, the accuracy increases from 33.67% with a split size of 0.6 to 34.89% with a split size of 0.8. This suggests that having more training data helps the model learn better and perform more accurately.\n",
        "\n",
        "In comparison between 1NN and 3NN, the 3NN classifier generally performs slightly better than the 1NN classifier. For instance, with a split size of 0.8 and 10 splits, the 3NN achieves an accuracy of 34.89%, compared to 34.05% for the 1NN. This indicates that considering more neighbors helps in making more robust predictions by reducing the impact of outliers and noise.\n",
        "\n",
        "\n",
        "### Conclusion:\n",
        "\n",
        "Based on the results obtained, we can conclude that:\n",
        "\n",
        "- Averaging the validation accuracy across multiple splits does provide more consistent results. This is evident from the slight improvements in accuracy as the number of splits increases.\n",
        "- A larger split size (more training data) generally leads to better accuracy. This is seen with both the 1NN and 3NN classifiers, where the accuracy improves as the training set size increases.\n",
        "- The 3NN classifier performs slightly better than the 1NN classifier, suggesting it may be more robust in handling noise and outliers.\n",
        "\n",
        "In summary, increasing the number of splits and the split size positively impacts the accuracy of both 1NN and 3NN classifiers, with 3NN showing a slight advantage overall. This experiment helps understand the impact of these parameters on the performance of k-nearest neighbor classifiers."
      ],
      "metadata": {
        "id": "kqOdmdy2c95J"
      }
    }
  ],
  "metadata": {
    "colab": {
      "provenance": [],
      "include_colab_link": true
    },
    "kernelspec": {
      "display_name": "Python 3",
      "name": "python3"
    },
    "language_info": {
      "codemirror_mode": {
        "name": "ipython",
        "version": 3
      },
      "file_extension": ".py",
      "mimetype": "text/x-python",
      "name": "python",
      "nbconvert_exporter": "python",
      "pygments_lexer": "ipython3",
      "version": "3.10.10"
    }
  },
  "nbformat": 4,
  "nbformat_minor": 0
}